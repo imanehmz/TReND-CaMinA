{
 "cells": [
  {
   "cell_type": "markdown",
   "id": "b146807a",
   "metadata": {},
   "source": [
    "<a target=\"_blank\" href=\"https://colab.research.google.com/github/trendinafrica/TReND-CaMinA/blob/main/notebooks/Rwanda24/16-Tue-DynSys/MultivariableDynamicalSystems.ipynb\">\n",
    "  <img src=\"https://colab.research.google.com/assets/colab-badge.svg\" alt=\"Open In Colab\"/>\n",
    "</a>"
   ]
  },
  {
   "cell_type": "markdown",
   "id": "4932b7ec",
   "metadata": {},
   "source": [
    "# Multi-variable dynamical systems\n",
    "\n",
    "In the examples we've seen so far, the **state** of a simple neuron is defined by the value of its membrane potential $V$; the state of a population of bacteria is defined by the number of bacteria, etc. In each case, a single number.\n",
    "\n",
    "However, most physical systems are defined by multiple variables. In physics, position and velocity are both needed to describe a system of particles. In ecology, multiple populations interact together.\n",
    "\n",
    "## Linear case: dynamics of love affairs\n",
    "This section is heavily inspired to S. Strogatz's wonderful textbook *Nonlinear Dynamics and Chaos*.\n",
    "\n",
    "Imagine two lovers, say Romeo and Juliet. Let's say that $R$ is the variable that describes Romeo's love (or hate, if negative) for Juliet; and $J$ describes Juliet's love for Romeo.\n",
    "\n",
    "In the first case, we imagine the two lovers with two incompatible dating behaviours:\n",
    "- Juliet is a fickle lover. The more Romeo loves her, the more Juliet wants to run away and hide. But when Romeo gets discouraged and backs off, Juliet begins to find him strangely attractive.\n",
    "- Romeo, on the other hand, tends to echo her feelings: he warms up when she loves him, and grows cold when she hates him.\n",
    "\n",
    "*What do you think will be the outcome of this situation?*\n",
    "\n",
    "So we describe their loves evolving in time based on each other:\n",
    "\n",
    "$$  \\dot R(t) = a J(t) $$\n",
    "$$  \\dot J(t) = -b R(t) $$\n",
    "\n",
    "These are also differential equations, but there's **two** interacting with each other (a **system** of equations).\n",
    "\n",
    "Notice that we can write this also as\n",
    "$$ \\begin{pmatrix} \\dot R \\\\ \\dot J \\end{pmatrix} = \\begin{pmatrix} 0 & a \\\\ -b & 0 \\end{pmatrix} \\begin{pmatrix}  R \\\\ J \\end{pmatrix} $$\n",
    "\n",
    "which makes it easier to work with in the general case, because we can set $y = (R, J)$, put the parameters in a matrix $A$, and write it as a matrix multiplication, as if it were a single variable:\n",
    "$$ \\mathbf{\\dot y} = A \\mathbf{y} $$\n",
    "\n",
    "### Let's code it up!\n",
    "We begin in the same way as we did for one variable."
   ]
  },
  {
   "cell_type": "code",
   "execution_count": null,
   "id": "70888298",
   "metadata": {},
   "outputs": [],
   "source": []
  },
  {
   "cell_type": "markdown",
   "id": "c844da49",
   "metadata": {},
   "source": [
    "### Phase spaces\n",
    "But now, why don't we plot $J$ vs $R$? We don't need *time* to understand the dynamics!\n",
    "The space of **states**, which here are the $(R, J)$ vectors, is called **phase space**.\n",
    "We see the **trajectories** of states in the state space, so the dynamics itself!"
   ]
  },
  {
   "cell_type": "code",
   "execution_count": null,
   "id": "28d4b934",
   "metadata": {},
   "outputs": [],
   "source": []
  },
  {
   "cell_type": "markdown",
   "id": "52837d6b",
   "metadata": {},
   "source": [
    "- What are we seeing here? How do we interpret this plot?\n",
    "- If we change the initial condition `y0`, what happens?\n",
    "\n",
    "### Flow fields\n",
    "\n",
    "What if we could plot all different trajectories in phase space, for all possible values of `y0` at once?"
   ]
  },
  {
   "cell_type": "code",
   "execution_count": null,
   "id": "b0323823",
   "metadata": {},
   "outputs": [],
   "source": []
  },
  {
   "cell_type": "markdown",
   "id": "867e10ab",
   "metadata": {},
   "source": [
    "#### Experiment on all this\n",
    "- Go back to the beginning and try changing $a$ and $b$. What happens?\n",
    "- How do we interpret all this?\n",
    "- Are there any equilibrium points in this system?"
   ]
  },
  {
   "cell_type": "markdown",
   "id": "2e56980f",
   "metadata": {},
   "source": [
    "## Generalized love stories\n",
    "\n",
    "But then, we can think of a generalized two-variable system:\n",
    "\n",
    "$$ \\begin{pmatrix} \\dot R \\\\ \\dot J \\end{pmatrix} = \\begin{pmatrix} a & b \\\\ c & d \\end{pmatrix} \\begin{pmatrix}  R \\\\ J \\end{pmatrix} $$\n",
    "\n",
    "*What's the meaning of each parameter here?*\n",
    "\n",
    "### Cautious lovers who respond to each other\n",
    "Using the code above, let's look at what happens when both Romeo and Juliet respond to each other's advances ($b=c=+1$) but are a bit \"cautious\" ($a=d=-0.5$).\n"
   ]
  },
  {
   "cell_type": "code",
   "execution_count": null,
   "id": "52b05a33",
   "metadata": {},
   "outputs": [],
   "source": []
  },
  {
   "cell_type": "markdown",
   "id": "7d9611da",
   "metadata": {},
   "source": [
    "What's the outcome? We can see that, depending on where we start, the arrows will either lead us to the top right, or to the bottom left. Only in very specific cases we will end up in 0.\n",
    "\n",
    "So, mostly, Romeo and Juliet will end up either infinitely loving or infinitely hating each other.\n",
    "\n",
    "Here is the whole panorama of possible situations we can have at fixed points in 2D systems:\n",
    "\n",
    "![](https://wiki.ruda.city/img/fixedpoints.png)\n",
    "\n",
    "*In which of these situations are we in the case shown above?*\n",
    "\n",
    "## Analytical study of the equilibria\n",
    "\n",
    "The matrix $A$ can tell us how the equilibrium will behave even before we solve anything.\n",
    "\n",
    "The **eigenvalues** of the matrix tell us!\n",
    "- If both eigenvalues are **negative**, the fixed point is **stable** from all directions (stable node)\n",
    "- If both eigenvalues are **positive**, the fixed point is **unstable** from all directions (unstable node)\n",
    "- If one eigenvalue is positive, and the other is negative, we have a stable and an unstable direction: this is a **saddle node**.\n",
    "\n",
    "The corresponding **eigenvectors** tell us *which* directions in the 2D plot correspond to these.\n",
    "\n",
    "If the eigenvalues have an **imaginary part** (they are complex numbers), then the imaginary part signifies there is a rotation:\n",
    "- A **center** if there is an imaginary part, and the real part is zero\n",
    "- A **stable focus** if there is an imaginary part, and the real part is negative\n",
    "- An **unstable focus** if there is an imaginary part, and the real part is positive\n",
    "\n",
    "So, if the theory is correct, for the saddle node above we should get a positive and a negative eigenvalue, with no imaginary part:"
   ]
  },
  {
   "cell_type": "code",
   "execution_count": null,
   "id": "d1a0600f",
   "metadata": {},
   "outputs": [],
   "source": []
  },
  {
   "cell_type": "markdown",
   "id": "af4246f7",
   "metadata": {},
   "source": [
    "### Very cautious lovers\n",
    "1. Using the code above, try looking at what happens when both Romeo and Juliet respond to each other's advances ($b=c=+1$) but are but are **very** \"cautious\" ($a=d=-2$).\n",
    "2. What is the outcome of this situation? Describe it in terms of stable and unstable equilibria.\n",
    "3. Try looking at the outcome for different $y_0$ to see if your interpretation is right\n",
    "4. Compute the eigenvalues of the matrix. What do they tell us?"
   ]
  },
  {
   "cell_type": "code",
   "execution_count": null,
   "id": "8d764e50",
   "metadata": {},
   "outputs": [],
   "source": []
  },
  {
   "cell_type": "markdown",
   "id": "f3d1e6fd",
   "metadata": {},
   "source": [
    "### Fickle Juliet, both cautious\n",
    "1. Try looking at what happens when both Romeo and Juliet are a bit \"cautious\" ($a=d=-0.5$), Romeo responds to Juliet's love ($b=1$), but Juliet acts fickle as we described in the first example ($c=-1$).\n",
    "2. What is the outcome of this situation? Describe it in terms of stable and unstable equilibria.\n",
    "3. Try looking at the outcome for different $y_0$ to see if your interpretation is right\n",
    "4. Compute the eigenvalues of the matrix. What do they tell us?"
   ]
  },
  {
   "cell_type": "code",
   "execution_count": null,
   "id": "ffe27756",
   "metadata": {},
   "outputs": [],
   "source": []
  }
 ],
 "metadata": {
  "kernelspec": {
   "display_name": "Python 3",
   "language": "python",
   "name": "python3"
  },
  "language_info": {
   "codemirror_mode": {
    "name": "ipython",
    "version": 3
   },
   "file_extension": ".py",
   "mimetype": "text/x-python",
   "name": "python",
   "nbconvert_exporter": "python",
   "pygments_lexer": "ipython3",
   "version": "3.8.10"
  }
 },
 "nbformat": 4,
 "nbformat_minor": 5
}

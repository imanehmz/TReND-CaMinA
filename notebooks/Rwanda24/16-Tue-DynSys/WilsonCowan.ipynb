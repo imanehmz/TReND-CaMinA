{
 "cells": [
  {
   "cell_type": "markdown",
   "id": "1ea229f6",
   "metadata": {},
   "source": [
    "<a target=\"_blank\" href=\"https://colab.research.google.com/github/trendinafrica/TReND-CaMinA/blob/main/notebooks/Rwanda24/16-Tue-DynSys/WilsonCowan.ipynb\">\n",
    "  <img src=\"https://colab.research.google.com/assets/colab-badge.svg\" alt=\"Open In Colab\"/>\n",
    "</a>"
   ]
  },
  {
   "cell_type": "markdown",
   "id": "6fc34d82",
   "metadata": {},
   "source": [
    "# A neuroscience example: the Wilson-Cowan model\n",
    "\n",
    "In this case, let's consider the activity of two neuron populations: one inhibitory, one excitatory. We work with their firing rates averaged over some short time span, calling the two variables $E(t)$ (excitatory activity) and $I(t)$ (inhibitory activity). We can put them together in a vector $\\mathbf{y} = (E, I)$. Then\n",
    "\n",
    "$$\\left\\{\\begin{matrix}\n",
    "\\dot E = -E + (1-rE)\\,S_e(aE - bI + i)\\\\ \n",
    "\\dot I = -I + (1-rI)\\,S_i(cE - dI + i)\n",
    "\\end{matrix}\\right.$$\n",
    "\n",
    "Let's break this down:\n",
    "- The $-E$ and $-I$ terms mean \"the activity tends to die out on its own\".\n",
    "- The term inside $aE-bI + i$ and the equivalent one for $I$ are the inputs to the two populations, which depend on:\n",
    "    - recurrent input: the excitation and inhibition from the two populations\n",
    "    - the external input $i$\n",
    "- $S$ is a nonlinear function, that shows neurons respond non-linearly to their input\n",
    "- The term $(1-rE)$ tells us that neurons have a refractory period, and cannot fire with rates above a certain value $1/r$.\n",
    "\n",
    "### Defining parameters"
   ]
  },
  {
   "cell_type": "code",
   "execution_count": null,
   "id": "5714de1a",
   "metadata": {},
   "outputs": [],
   "source": [
    "import numpy as np\n",
    "\n",
    "# couplings\n",
    "a = 16\n",
    "b = 12\n",
    "c = 15\n",
    "d = 3\n",
    "\n",
    "# refractory periods\n",
    "rE = 1\n",
    "rI = 1\n",
    "r = 1\n",
    "\n",
    "# external inputs\n",
    "inpt = 1\n",
    "\n",
    "# simulation time\n",
    "time = np.linspace(0, 50, 1000)"
   ]
  },
  {
   "cell_type": "markdown",
   "id": "555e830a",
   "metadata": {},
   "source": [
    "### Defining the functions and equations\n",
    "\n",
    "Here, we define the response function, and a function that computes the derivatives."
   ]
  },
  {
   "cell_type": "code",
   "execution_count": null,
   "id": "242415e6",
   "metadata": {},
   "outputs": [],
   "source": [
    "# nonlinear functions\n",
    "from scipy.special import expit\n",
    "\n",
    "# the excitatory and inhibitory populations have different responses\n",
    "def exc_response(x):\n",
    "    return expit(4*(x-1.3)) - 0.00549\n",
    "\n",
    "def inh_response(x):\n",
    "    return expit(3.7*(x-2)) - 0.00061\n",
    "\n",
    "\n",
    "# this function returns the right hand side of the Wilson-Cowan equation\n",
    "# (both, in a 2-vector)\n",
    "def WilsonCowan(y, t):\n",
    "    E = y[0]\n",
    "    I = y[1]\n",
    "    E_dot = ... COMPLETE HERE\n",
    "    I_dot = ... COMPLETE HERE\n",
    "    return [E_dot, I_dot]"
   ]
  },
  {
   "cell_type": "code",
   "execution_count": null,
   "id": "7a849247",
   "metadata": {},
   "outputs": [],
   "source": [
    "# plot just to show how they look\n",
    "import matplotlib.pyplot as plt\n",
    "\n",
    "x = np.linspace(-1, 5, 100)\n",
    "plt.plot(x, exc_response(x), label=\"Exc response function\")\n",
    "plt.plot(x, inh_response(x), label=\"Inh response function\")\n",
    "plt.xlabel(\"Input current\")\n",
    "plt.ylabel(\"Response (output firing rate)\");"
   ]
  },
  {
   "cell_type": "markdown",
   "id": "2e474b88",
   "metadata": {},
   "source": [
    "## Functions for numerical solution of ODEs\n",
    "We won't go into the details of how these work.\n",
    "\n",
    "Instead of forward Euler, in this case we will use some powerful functions from the Scipy library."
   ]
  },
  {
   "cell_type": "code",
   "execution_count": null,
   "id": "0f1c2d98",
   "metadata": {},
   "outputs": [],
   "source": [
    "from scipy.optimize import fsolve\n",
    "from scipy.integrate import odeint\n",
    "\n",
    "# minimum and maximum E and I values we want displayed in the graph\n",
    "minval = -.1\n",
    "maxval = .6\n",
    "resolution = 20\n",
    "\n",
    "# State variables\n",
    "vals = np.linspace(minval, maxval, resolution)\n",
    "\n",
    "# Create a grid for evaluation of the vector field\n",
    "E_vals, I_vals = np.meshgrid(vals, vals)\n",
    "\n",
    "def find_flow_field():\n",
    "    # Evaluate the derivatives\n",
    "    E_dot, I_dot = WilsonCowan([E_vals, I_vals], 0)\n",
    "    \n",
    "    return E_dot, I_dot\n",
    "\n",
    "def find_fixed_points():\n",
    "    fixed_p = []\n",
    "    y1 = E_vals.ravel()\n",
    "    y2 = I_vals.ravel()\n",
    "    for i in range(resolution**2):\n",
    "        # find a zero\n",
    "        sol, infodict, ier, mesg = fsolve(\n",
    "            WilsonCowan, [y1[i], y2[i]], args=(0), full_output=1)\n",
    "        if ier == 1: # I exclude the cases where fsolve didn't converge\n",
    "            fixed_p.append(sol)\n",
    "\n",
    "    return np.array(fixed_p).T\n",
    "\n",
    "def solve_eq_diffs(E0, I0, time):  # the inputs are the starting points\n",
    "    # find the solution with scint.odeint\n",
    "    odesol = odeint(WilsonCowan, [E0, I0], time)\n",
    "    # separate the two solutions\n",
    "    exc_timeseries, inh_timeseries = odesol.T\n",
    "    return exc_timeseries, inh_timeseries"
   ]
  },
  {
   "cell_type": "markdown",
   "id": "181f160d",
   "metadata": {},
   "source": [
    "## Finding a solution given initial conditions"
   ]
  },
  {
   "cell_type": "code",
   "execution_count": null,
   "id": "28f084dc",
   "metadata": {},
   "outputs": [],
   "source": [
    "# initial conditions\n",
    "E0, I0 = 0.39, 0.49 # try changing this\n",
    "\n",
    "exc_timeseries, inh_timeseries = solve_eq_diffs(E0, I0, time)"
   ]
  },
  {
   "cell_type": "code",
   "execution_count": null,
   "id": "091d2574",
   "metadata": {},
   "outputs": [],
   "source": [
    "import matplotlib.pyplot as plt\n",
    "\n",
    "# plot the solution in time\n",
    "plt.ylabel(r'$E, I$')\n",
    "plt.xlabel(r'$t$')\n",
    "\n",
    "... COMPLETE HERE"
   ]
  },
  {
   "cell_type": "markdown",
   "id": "e9fe1a73",
   "metadata": {},
   "source": [
    "### Exercise\n",
    "\n",
    "- What do we see here? What is the neural network doing?\n",
    "- Try changing the initial conditions `E0, I0`. Can you get it to have a different behavior?\n",
    "\n",
    "## Plotting the phase portrait\n",
    "\n",
    "Let's now compute the whole flow field and show it in phase space.\n",
    "\n",
    "Additionally, we can use a numerical equation solver to find the equilibrium points."
   ]
  },
  {
   "cell_type": "code",
   "execution_count": null,
   "id": "0d1e86fa",
   "metadata": {},
   "outputs": [],
   "source": [
    "# compute the vector field corresponding to the equation\n",
    "E_dot, I_dot = find_flow_field()\n",
    "\n",
    "# numerically find the fixed points of this field\n",
    "fixed_p = find_fixed_points()"
   ]
  },
  {
   "cell_type": "code",
   "execution_count": null,
   "id": "e3813896",
   "metadata": {},
   "outputs": [],
   "source": [
    "# plotting the vector field in the state space (E, I)\n",
    "plt.figure(figsize=(10, 10))\n",
    "plt.quiver(E_vals, I_vals, E_dot, I_dot)\n",
    "plt.xlabel(r'$E$', fontsize=16) # yes, you can use Latex code!\n",
    "plt.ylabel(r'$I$', fontsize=16)\n",
    "plt.grid()\n",
    "\n",
    "# plot the solution in the phase space\n",
    "plt.plot(exc_timeseries, inh_timeseries, '.-', alpha=0.5);\n",
    "\n",
    "# plot the fixed points we identified\n",
    "plt.scatter(fixed_p[0], fixed_p[1], marker='o', s=50, c='r',\n",
    "            label=\"Stationary points\")\n",
    "\n",
    "# plot the starting point\n",
    "plt.scatter(E0, I0, marker='*', s=300, label=\"Starting point\")\n",
    "plt.legend(loc=\"upper left\");"
   ]
  },
  {
   "cell_type": "markdown",
   "id": "e7de50ea",
   "metadata": {},
   "source": [
    "### Final considerations\n",
    "\n",
    "What do we observe? Equilibrium points? Stable or unstable? Limit cycles? What do we conclude?"
   ]
  },
  {
   "cell_type": "markdown",
   "id": "217e0ef7",
   "metadata": {},
   "source": [
    "# Exercise for another time: prey-predator model\n",
    "Let us extend our example of the logistic equation to multiple populations. This was the equation we used so far:\n",
    "$$ \\frac{dy(t)}{dt} = ky(t)\\cdot (M - y(t)) = kMy - ky^2 $$\n",
    "\n",
    "But let's think of this as a population of preys (for example, zebras). The limiting factor, in this case, is due to a population of predators (lions).\n",
    "$$ \\frac{dZ(t)}{dt} = rZ(t) - aZ(t)L(t)$$\n",
    "$$ \\frac{dL(t)}{dt} = -mZ(t) + bZ(t)L(t)$$\n",
    "We should interpret these terms as follows:\n",
    "- The Zebras reproduce at rate $r$ in absence of lions\n",
    "- The Lions dwindle with mortality $m$ in absence of zebras\n",
    "- The Zebras tend to die more in presence of lions (by a factor $a$)\n",
    "- The Lions tend to reproduce more in presence of zebras (by a factor $b$).\n",
    "\n",
    "These are called **Lotka-Volterra equations** and are often used as an example of a system with richer dynamics.\n",
    "\n",
    "Exercise: plot the phase portrait and interpret it."
   ]
  },
  {
   "cell_type": "code",
   "execution_count": null,
   "id": "ffe27756",
   "metadata": {},
   "outputs": [],
   "source": []
  }
 ],
 "metadata": {
  "kernelspec": {
   "display_name": "Python 3 (ipykernel)",
   "language": "python",
   "name": "python3"
  },
  "language_info": {
   "codemirror_mode": {
    "name": "ipython",
    "version": 3
   },
   "file_extension": ".py",
   "mimetype": "text/x-python",
   "name": "python",
   "nbconvert_exporter": "python",
   "pygments_lexer": "ipython3",
   "version": "3.12.4"
  }
 },
 "nbformat": 4,
 "nbformat_minor": 5
}

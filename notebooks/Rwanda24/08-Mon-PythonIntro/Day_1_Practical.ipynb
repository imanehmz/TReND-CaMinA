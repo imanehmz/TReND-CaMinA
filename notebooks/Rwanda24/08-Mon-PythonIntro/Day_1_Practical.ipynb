{
  "cells": [
    {
      "cell_type": "markdown",
      "metadata": {
        "id": "view-in-github",
        "colab_type": "text"
      },
      "source": [
        "<a href=\"https://colab.research.google.com/github/trendinafrica/TReND-CaMinA/blob/main/notebooks/Rwanda24/08-Mon-PythonIntro/Day_1_Practical.ipynb\" target=\"_parent\"><img src=\"https://colab.research.google.com/assets/colab-badge.svg\" alt=\"Open In Colab\"/></a>"
      ]
    },
    {
      "cell_type": "markdown",
      "id": "d8b3cc51",
      "metadata": {
        "id": "d8b3cc51"
      },
      "source": [
        "\n",
        "\n",
        "<img align=\"left\" width=\"300\" src=\"https://raw.githubusercontent.com/trendinafrica/TReND-CaMinA/main/images/CaMinA_logo.png\">\n",
        "\n",
        "# TReND-CaMinA Day 1: Linear Algebra - Data Handling and Visualization\n",
        "\n",
        "**Content creators:** Artemis Koumoundourou & Burak Gür\n",
        "\n",
        "**Acknowledgements:** This notebook includes modified parts/was inspired from:\n",
        "  - previous TReND-CaMinA courses\n",
        "  - Neuromatch Academy tutorials [W0D3 Linear Algebra](https://compneuro.neuromatch.io/tutorials/W0D3_LinearAlgebra/student/W0D3_Tutorial1.html) by **Ella Batty**"
      ]
    },
    {
      "cell_type": "markdown",
      "id": "0d415042",
      "metadata": {
        "id": "0d415042"
      },
      "source": [
        "---\n",
        "# **Introduction**\n",
        "In this notebook we will put into practice the knowlede aquired in the previous sessions.\n",
        "\n",
        "We will use different packages to import and display the data as well as perform some basic data analysis and calculations in linear algebra. The main point of this sessions is to practice your newly acquired skills.\n",
        "\n",
        "The solution are provided in the notebook. In most cases there is not one single solution - so you might come up with a solution that works just as well as the one we came up with. That does not make either of our solutions wrong ;). There is simply different ways of solving problems.\n",
        "If you get stuck and before you check the solution ask one of the TAs for help. They might be able to give you some new ideas.\n",
        "\n",
        "\n",
        "Let's go!"
      ]
    },
    {
      "cell_type": "markdown",
      "source": [
        "# Exercise 1: Which two organizers are the most similar?\n",
        "## Themes to cover\n",
        "- Vector/matrix filling\n",
        "- Norm\n",
        "- Dot product\n",
        "\n",
        "## Task\n",
        "Using `numpy` and linear algebra figure out who of the following two people are the most similar in terms of their food preferences (keep in mind these preferences may not match with their real preference):\n",
        "\n",
        "Food preferences ranging from 0 (hate it) to 10 (always think about it)=\n",
        "\n",
        "| Food     | Joana | Artemis | Saray | Tom | Emmanuel |\n",
        "|-----------|-------|-----|---------|---------|---------|\n",
        "| Tacos    | 9     | 3   | 8       |7       |10       |\n",
        "| Fish & Chips   | 0     | 0   | 0      |10       |3      |\n",
        "| Beer   | 9     | 8   | 8       |7       |7       |\n",
        "| Jallof (Nigerian)   | 10     | 8   | 9       |10       |6       |\n",
        "| Jallof (Ghanaian)   | 8    | 7   | 10       |7       |10       |\n",
        "\n",
        "\n",
        "\n",
        "\n",
        "## Bonus task (related):\n",
        "Find out the similarity from amount of food eaten (gr or ml) in the last month. Be careful: Each person eats different amounts in total.\n",
        "\n",
        "| Food (gr or ml)            | Joana | Artemis | Saray | Tom | Emmanuel |\n",
        "|-----------------|-------|---------|-------|-----|----------|\n",
        "| Tacos           | 450   | 180     | 320   | 525 | 650      |\n",
        "| Fish & Chips    | 0     | 0       | 0     | 750 | 195      |\n",
        "| Beer            | 450   | 480     | 320   | 525 | 455      |\n",
        "| Jallof (Nigerian)| 500  | 480     | 360   | 750 | 390      |\n",
        "| Jallof (Ghanaian)| 400  | 420     | 400   | 525 | 650      |\n",
        "\n",
        "### Hints:\n",
        "- Dot product also depends on the length of the vectors. We might need to get rid of that dependency in one of the above cases.\n",
        "\n",
        "\n"
      ],
      "metadata": {
        "id": "8FQ46N5CJGS5"
      },
      "id": "8FQ46N5CJGS5"
    },
    {
      "cell_type": "markdown",
      "source": [
        "## Your turn\n",
        "Write a python code for exercise 1 below:"
      ],
      "metadata": {
        "id": "dyHuXZ-cYiNo"
      },
      "id": "dyHuXZ-cYiNo"
    },
    {
      "cell_type": "code",
      "source": [
        "# Your code goes below"
      ],
      "metadata": {
        "id": "ilpElaWwYdGP"
      },
      "execution_count": null,
      "outputs": [],
      "id": "ilpElaWwYdGP"
    },
    {
      "cell_type": "code",
      "source": [
        "#@title Click to see solution (using vectors) {display-mode: \"form\" }\n",
        "import numpy as np\n",
        "\n",
        "# Define preferences\n",
        "joana_preferences = np.array([9, 0, 9, 10, 8])\n",
        "artemis_preferences = np.array([3, 0, 8, 8, 7])\n",
        "saray_preferences = np.array([8, 0, 8, 9, 10])\n",
        "tom_preferences = np.array([7, 10, 7, 10, 7])\n",
        "emmanuel_preferences = np.array([10, 3, 7, 6, 10])\n",
        "\n",
        "# Names of the people\n",
        "names = [\"Joana\", \"Artemis\", \"Saray\", \"Tom\", \"Emmanuel\"]\n",
        "\n",
        "# Preferences list\n",
        "preferences = [joana_preferences, artemis_preferences, saray_preferences, tom_preferences, emmanuel_preferences]\n",
        "# Normalize the preference vectors\n",
        "norms = np.linalg.norm(preferences, axis=1)\n",
        "normalized_preferences = preferences / norms[:, np.newaxis]\n",
        "\n",
        "# Calculate the dot products\n",
        "dot_products = {}\n",
        "for i in range(len(preferences)):\n",
        "    for j in range(i + 1, len(preferences)):\n",
        "        dot_product = np.dot(preferences[i], preferences[j])\n",
        "        dot_products[(names[i], names[j])] = dot_product\n",
        "\n",
        "# Print the results\n",
        "for pair, value in dot_products.items():\n",
        "    print(f\"Dot Product ({pair[0]} ⋅ {pair[1]}): {value}\")\n",
        "\n",
        "# Find the two people with the most similar preferences\n",
        "most_similar_pair = max(dot_products, key=dot_products.get)\n",
        "most_similar_value = dot_products[most_similar_pair]\n",
        "\n",
        "print(f\"\\nThe two people with the most similar preferences are {most_similar_pair[0]} and {most_similar_pair[1]} with a dot product of {most_similar_value}.\")\n",
        "\n"
      ],
      "metadata": {
        "collapsed": true,
        "id": "9dipqPceXyDb"
      },
      "execution_count": null,
      "outputs": [],
      "id": "9dipqPceXyDb"
    },
    {
      "cell_type": "code",
      "source": [
        "#@title Click to see solution (using matrix dot product) {display-mode: \"form\" }\n",
        "\n",
        "import numpy as np\n",
        "import matplotlib.pyplot as plt\n",
        "import seaborn as sns\n",
        "\n",
        "# Define preferences\n",
        "preferences = np.array([\n",
        "    [9, 0, 9, 10, 8],  # Joana\n",
        "    [3, 0, 8, 8, 7],   # Artemis\n",
        "    [8, 0, 8, 9, 10],  # Saray\n",
        "    [7, 10, 7, 10, 7], # Tom\n",
        "    [10, 3, 7, 6, 10]  # Emmanuel\n",
        "])\n",
        "\n",
        "names = [\"Joana\", \"Artemis\", \"Saray\", \"Tom\", \"Emmanuel\"]\n",
        "\n",
        "# Calculate the dot product matrix\n",
        "dot_product_matrix = np.dot(preferences, preferences.T)\n",
        "\n",
        "\n",
        "# Restore the diagonal values for better visualization\n",
        "np.fill_diagonal(dot_product_matrix, 0)\n",
        "\n",
        "# Plot the dot product matrix using a heatmap\n",
        "plt.figure(figsize=(10, 8))\n",
        "sns.heatmap(dot_product_matrix, annot=True, fmt=\".4f\", cmap=\"coolwarm\", xticklabels=names, yticklabels=names, cbar=True)\n",
        "plt.title(\"Dot Product Matrix of Preferences\")\n",
        "plt.show()\n"
      ],
      "metadata": {
        "collapsed": true,
        "id": "IsogSYNwZKdb"
      },
      "execution_count": null,
      "outputs": [],
      "id": "IsogSYNwZKdb"
    },
    {
      "cell_type": "code",
      "source": [
        "#@title Click to see solution of Bonus question {display-mode: \"form\" }\n",
        "\n",
        "import numpy as np\n",
        "import matplotlib.pyplot as plt\n",
        "import seaborn as sns\n",
        "\n",
        "# Preferences\n",
        "preferences = np.array([\n",
        "    [450, 0, 450, 500, 400],   # Joana (scale factor 1.0)\n",
        "    [180, 0, 480, 480, 420],   # Artemis (scale factor 1.2)\n",
        "    [320, 0, 320, 360, 400],   # Saray (scale factor 0.8)\n",
        "    [525, 750, 525, 750, 525], # Tom (scale factor 1.5)\n",
        "    [650, 195, 455, 390, 650]  # Emmanuel (scale factor 1.3)\n",
        "])\n",
        "\n",
        "# Scale the preferences\n",
        "scaled_preferences = preferences * scaling_factors[:, np.newaxis]\n",
        "\n",
        "# Names of the people\n",
        "names = [\"Joana\", \"Artemis\", \"Saray\", \"Tom\", \"Emmanuel\"]\n",
        "\n",
        "# Normalize the preference vectors\n",
        "norms = np.linalg.norm(scaled_preferences, axis=1)\n",
        "normalized_preferences = scaled_preferences / norms[:, np.newaxis]\n",
        "\n",
        "# Calculate the cosine similarity matrix\n",
        "cosine_similarity_matrix = np.dot(normalized_preferences, normalized_preferences.T)\n",
        "\n",
        "# To avoid self-pairing, set the diagonal to 0\n",
        "np.fill_diagonal(cosine_similarity_matrix, 0)\n",
        "\n",
        "# Find the indices of the maximum value in the cosine similarity matrix\n",
        "max_index = np.unravel_index(np.argmax(cosine_similarity_matrix), cosine_similarity_matrix.shape)\n",
        "\n",
        "# Extract the names of the most similar pair\n",
        "most_similar_pair = (names[max_index[0]], names[max_index[1]])\n",
        "most_similar_value = cosine_similarity_matrix[max_index]\n",
        "\n",
        "# Print the most similar pair\n",
        "print(f\"\\nThe two people with the most similar preferences are {most_similar_pair[0]} and {most_similar_pair[1]} with a cosine similarity of {most_similar_value}.\")\n",
        "\n",
        "# Restore the diagonal values for better visualization\n",
        "np.fill_diagonal(cosine_similarity_matrix, 1)\n",
        "\n",
        "# Plot the cosine similarity matrix using a heatmap\n",
        "plt.figure(figsize=(10, 8))\n",
        "sns.heatmap(cosine_similarity_matrix, annot=True, fmt=\".2f\", cmap=\"coolwarm\", xticklabels=names, yticklabels=names, cbar=True)\n",
        "plt.title(\"Cosine Similarity Matrix of Preferences\")\n",
        "plt.show()\n"
      ],
      "metadata": {
        "id": "J15yLOeFu1nm"
      },
      "execution_count": null,
      "outputs": [],
      "id": "J15yLOeFu1nm"
    },
    {
      "cell_type": "markdown",
      "source": [
        "## Discuss: Why are the two people you found most similar to each other?"
      ],
      "metadata": {
        "id": "vKjDX3n0YtWv"
      },
      "id": "vKjDX3n0YtWv"
    },
    {
      "cell_type": "markdown",
      "id": "3c5379a9",
      "metadata": {
        "id": "3c5379a9"
      },
      "source": [
        "---\n",
        "# Excercise 2: In which position does each place cell fire?\n",
        "\n",
        "The dataset `place_cells.csv` was collected from an (artificial) animal moving around a 1 $m^2$ environment. 10 “place cells” — cell types commonly found in the hippocampus which only fire at specific locations in an environment — spike as the animal moves around. The columns in the data give timestamps (column name \"times\") and positions (\"pos_x\" and \"pos_y\") as well as True or False values for whether a place cell emitted a spike at a given timestamp (\"spikes_0\",\"spikes_1\", … , \"spikes_9\").<br><br>\n",
        "\n",
        "\n",
        "###Task:\n",
        "Visualise the positions in which each place cell fired within the animal's trajectory.<br><br>\n",
        "\n",
        "\n",
        "###Hints:\n",
        "- Create a figure with ten subplots (one for each cell).\n",
        "- Isolated the x and y positions of the animal and plot them in each subplot.\n",
        "- Use the spike data to scatter the positions where a cell fired (one cell per subplot)."
      ]
    },
    {
      "cell_type": "code",
      "execution_count": null,
      "id": "c56e3486",
      "metadata": {
        "id": "c56e3486"
      },
      "outputs": [],
      "source": [
        "#Import the packages you will need\n"
      ]
    },
    {
      "cell_type": "code",
      "source": [
        "#Import file\n"
      ],
      "metadata": {
        "id": "DcMtWfJmKy9f"
      },
      "id": "DcMtWfJmKy9f",
      "execution_count": null,
      "outputs": []
    },
    {
      "cell_type": "code",
      "source": [
        "#Load data and visualize them"
      ],
      "metadata": {
        "id": "Piz5H0QoK4jK"
      },
      "id": "Piz5H0QoK4jK",
      "execution_count": null,
      "outputs": []
    },
    {
      "cell_type": "code",
      "source": [
        "#@title Click to see solution\n",
        "#Import the packages you will need\n",
        "import pandas as pd\n",
        "import matplotlib.pyplot as plt\n",
        "import numpy as np"
      ],
      "metadata": {
        "cellView": "form",
        "id": "ybcxK_QcJ66-"
      },
      "id": "ybcxK_QcJ66-",
      "execution_count": null,
      "outputs": []
    },
    {
      "cell_type": "code",
      "source": [
        "#@title Click to see solution\n",
        "from google.colab import files\n",
        "uploaded = files.upload() #open the dataCon_noheader.csv file"
      ],
      "metadata": {
        "id": "43CTJ60zKR1n"
      },
      "id": "43CTJ60zKR1n",
      "execution_count": null,
      "outputs": []
    },
    {
      "cell_type": "code",
      "source": [
        "#@title Click to see solution\n",
        "data = pd.read_csv('place_cells.csv')\n",
        "data"
      ],
      "metadata": {
        "cellView": "form",
        "id": "f_zOj9LzK9nN"
      },
      "id": "f_zOj9LzK9nN",
      "execution_count": null,
      "outputs": []
    },
    {
      "cell_type": "code",
      "execution_count": null,
      "id": "4d32ffd7",
      "metadata": {
        "id": "4d32ffd7"
      },
      "outputs": [],
      "source": [
        "#extract positions and spikes\n"
      ]
    },
    {
      "cell_type": "code",
      "source": [
        "#@title Click to see solution\n",
        "x = data['pos_x']\n",
        "y = data['pos_y']\n",
        "\n",
        "id_spikes_0 = (data['spikes_0'].values == True)\n",
        "id_spikes_1 = (data['spikes_1'].values == True)\n",
        "id_spikes_2 = (data['spikes_2'].values == True)\n",
        "id_spikes_3 = (data['spikes_3'].values == True)\n",
        "id_spikes_4 = (data['spikes_4'].values == True)\n",
        "id_spikes_5 = (data['spikes_5'].values == True)\n",
        "id_spikes_6 = (data['spikes_6'].values == True)\n",
        "id_spikes_7 = (data['spikes_7'].values == True)\n",
        "id_spikes_8 = (data['spikes_8'].values == True)\n",
        "id_spikes_9 = (data['spikes_9'].values == True)"
      ],
      "metadata": {
        "cellView": "form",
        "id": "NuIyyzYVLLhQ"
      },
      "id": "NuIyyzYVLLhQ",
      "execution_count": null,
      "outputs": []
    },
    {
      "cell_type": "code",
      "execution_count": null,
      "id": "11d8fc73",
      "metadata": {
        "id": "11d8fc73"
      },
      "outputs": [],
      "source": [
        "#create a figure with 10 subplots\n",
        "\n",
        "\n",
        "#make a plot with the trajectory and a red dot for each spike for each cell\n",
        "\n",
        "\n",
        "# Hide x labels and tick labels for top plots and y ticks for right plots.\n",
        "\n"
      ]
    },
    {
      "cell_type": "code",
      "source": [
        "#@title Click to see solution\n",
        "#create a figure with 10 subplots\n",
        "fig, axs = plt.subplots(2,5, figsize=(20,8))\n",
        "\n",
        "#make a plot with the trajectory and a red dot for each spike for each cell\n",
        "ax0=axs[0,0]\n",
        "ax0.scatter(x,y,s=1,alpha=0.2)\n",
        "ax0.set_xlim([0,1]); ax0.set_ylim([0,1])\n",
        "ax0.scatter(x[id_spikes_0],y[id_spikes_0],s=10,color='red')\n",
        "ax0.set_aspect('equal', adjustable=\"datalim\")\n",
        "ax0.set_title( 'Place cell 1')\n",
        "\n",
        "ax1=axs[0,1]\n",
        "ax1.scatter(x,y,s=1,alpha=0.2)\n",
        "ax1.set_xlim([0,1]); ax1.set_ylim([0,1])\n",
        "ax1.scatter(x[id_spikes_1],y[id_spikes_1],s=10,color='red')\n",
        "ax1.set_aspect('equal', adjustable=\"datalim\")\n",
        "ax1.set_title( 'Place cell 2')\n",
        "\n",
        "ax2=axs[0,2]\n",
        "ax2.scatter(x,y,s=1,alpha=0.2)\n",
        "ax2.set_xlim([0,1]); ax2.set_ylim([0,1])\n",
        "ax2.scatter(x[id_spikes_2],y[id_spikes_2],s=10,color='red')\n",
        "ax2.set_aspect('equal', adjustable=\"datalim\")\n",
        "ax2.set_title( 'Place cell 3')\n",
        "\n",
        "ax3=axs[0,3]\n",
        "ax3.scatter(x,y,s=1,alpha=0.2)\n",
        "ax3.set_xlim([0,1]); ax3.set_ylim([0,1])\n",
        "ax3.scatter(x[id_spikes_3],y[id_spikes_3],s=10,color='red')\n",
        "ax3.set_aspect('equal', adjustable=\"datalim\")\n",
        "ax3.set_title( 'Place cell 4')\n",
        "\n",
        "ax4=axs[0,4]\n",
        "ax4.scatter(x,y,s=1,alpha=0.2)\n",
        "ax4.set_xlim([0,1]); ax4.set_ylim([0,1])\n",
        "ax4.scatter(x[id_spikes_4],y[id_spikes_4],s=10,color='red')\n",
        "ax4.set_aspect('equal', adjustable=\"datalim\")\n",
        "ax4.set_title( 'Place cell 5')\n",
        "\n",
        "ax5=axs[1,0]\n",
        "ax5.scatter(x,y,s=1,alpha=0.2)\n",
        "ax5.set_xlim([0,1]); ax5.set_ylim([0,1])\n",
        "ax5.scatter(x[id_spikes_5],y[id_spikes_5],s=10,color='red')\n",
        "ax5.set_aspect('equal', adjustable=\"datalim\")\n",
        "ax5.set_title( 'Place cell 6')\n",
        "\n",
        "ax6=axs[1,1]\n",
        "ax6.scatter(x,y,s=1,alpha=0.2)\n",
        "ax6.set_xlim([0,1]); ax6.set_ylim([0,1])\n",
        "ax6.scatter(x[id_spikes_2],y[id_spikes_2],s=10,color='red')\n",
        "ax6.set_aspect('equal', adjustable=\"datalim\")\n",
        "ax6.set_title( 'Place cell 7')\n",
        "\n",
        "ax7=axs[1,2]\n",
        "ax7.scatter(x,y,s=1,alpha=0.2)\n",
        "ax7.set_xlim([0,1]); ax7.set_ylim([0,1])\n",
        "ax7.scatter(x[id_spikes_7],y[id_spikes_7],s=10,color='red')\n",
        "ax7.set_aspect('equal', adjustable=\"datalim\")\n",
        "ax7.set_title( 'Place cell 8')\n",
        "\n",
        "ax8=axs[1,3]\n",
        "ax8.scatter(x,y,s=1,alpha=0.2)\n",
        "ax8.set_xlim([0,1]); ax8.set_ylim([0,1])\n",
        "ax8.scatter(x[id_spikes_8],y[id_spikes_8],s=10,color='red')\n",
        "ax8.set_aspect('equal', adjustable=\"datalim\")\n",
        "ax8.set_title( 'Place cell 9')\n",
        "\n",
        "ax9=axs[1,4]\n",
        "ax9.scatter(x,y,s=1,alpha=0.2)\n",
        "ax9.set_xlim([0,1]); ax9.set_ylim([0,1])\n",
        "ax9.scatter(x[id_spikes_9],y[id_spikes_9],s=10,color='red')\n",
        "ax9.set_aspect('equal', adjustable=\"datalim\")\n",
        "ax9.set_title( 'Place cell 10')\n",
        "\n",
        "# Hide x labels and tick labels for top plots and y ticks for right plots.\n",
        "for ax in axs.flat:\n",
        "    ax.label_outer()"
      ],
      "metadata": {
        "cellView": "form",
        "id": "NwsG62zBLWmY"
      },
      "id": "NwsG62zBLWmY",
      "execution_count": null,
      "outputs": []
    },
    {
      "cell_type": "markdown",
      "id": "1fb4279d",
      "metadata": {
        "hide_input": false,
        "id": "1fb4279d"
      },
      "source": [
        "---\n",
        "# Excercise 3: Are there differences in the long-term potentiation of the two animal groups?\n",
        "\n",
        "The dataset `LTP.csv` contains measurements collected from brain slices of 5 control and 5 mutant animals upon long-term potentiation (LTP) induction with a high frecuency stimulus (HFS).\n",
        "\n",
        "The columns in the data give timestamps in mininutes (column name \"Times\") and the fEPSP slope (mV/s) -the rate of change in the amplitude of excitatory postsynaptic potentials recorded in neural tissue- for each animal at a given timestamp (\"Con_1\", \"Con_2\"...,\"Mut_5\"). HFS was applied at 0 min.<br><br>\n",
        "\n",
        "###Task:\n",
        "Plot the fEPSP slopes of the two groups and compare the two groups for potential changes in the LTP.<br><br>\n",
        "\n",
        "\n",
        "###Hints:\n",
        "\n",
        "- Calculate the baseline for each animal (average fEPSP slope before HFS application) and normalise the measurements.\n",
        "- Calculate the average normalized measurement for each timestamp for each group\n",
        "- Plot the fEPSP slopes for the two animal groups as % of the baseline.<br><br>\n",
        "\n",
        "\n",
        "(LTP is believed to play a crucial role in learning and memory processes in the brain. It is defined as a persistent increase in synaptic strength that lasts for hours to days, and sometimes even longer, leading to changes in the efficiency of synaptic transmission.)"
      ]
    },
    {
      "cell_type": "code",
      "execution_count": null,
      "id": "c89a2842",
      "metadata": {
        "id": "c89a2842"
      },
      "outputs": [],
      "source": [
        "#Import the packages you will need\n",
        "\n"
      ]
    },
    {
      "cell_type": "code",
      "source": [
        "#Import file"
      ],
      "metadata": {
        "id": "6lztnEq8Mkx5"
      },
      "id": "6lztnEq8Mkx5",
      "execution_count": null,
      "outputs": []
    },
    {
      "cell_type": "code",
      "source": [
        "#Load data and visualize them\n"
      ],
      "metadata": {
        "id": "KoE1F87DMgES"
      },
      "id": "KoE1F87DMgES",
      "execution_count": null,
      "outputs": []
    },
    {
      "cell_type": "code",
      "source": [
        "#@title Click to see solution\n",
        "#Import the packages you will need\n",
        "import pandas as pd\n",
        "import matplotlib.pyplot as plt\n",
        "import numpy as np\n",
        "import seaborn as sns"
      ],
      "metadata": {
        "cellView": "form",
        "id": "9MlA8mjOMqhG"
      },
      "id": "9MlA8mjOMqhG",
      "execution_count": null,
      "outputs": []
    },
    {
      "cell_type": "code",
      "source": [
        "#@title Click to see solution\n",
        "from google.colab import files\n",
        "uploaded = files.upload() #open the dataCon_noheader.csv file"
      ],
      "metadata": {
        "cellView": "form",
        "id": "xAb4gQi5MwhU"
      },
      "id": "xAb4gQi5MwhU",
      "execution_count": null,
      "outputs": []
    },
    {
      "cell_type": "code",
      "source": [
        "#@title Click to see solution\n",
        "#load data and visualize them\n",
        "data = pd.read_csv('LTP.csv')\n",
        "data"
      ],
      "metadata": {
        "cellView": "form",
        "id": "C76lKof_M-nw"
      },
      "id": "C76lKof_M-nw",
      "execution_count": null,
      "outputs": []
    },
    {
      "cell_type": "code",
      "execution_count": null,
      "id": "c90f965f",
      "metadata": {
        "id": "c90f965f"
      },
      "outputs": [],
      "source": [
        "#Find the time values before the HFS application\n",
        "\n",
        "\n",
        "#Create the normalised data for each animal by dividing the values with the average of the values corresponding to the timestamps before HFS\n",
        "\n",
        "\n",
        "\n",
        "\n",
        "#Calculate the average normalized measurement for each timestamp for each group as %\n"
      ]
    },
    {
      "cell_type": "code",
      "source": [
        "#@title Click to see solution\n",
        "#Find the time values before the HFS application\n",
        "time=data['Time']\n",
        "before_HFS=(data['Time'].values<0)\n",
        "\n",
        "#Create the normalised data for each animal by dividing the values with the average of the values\n",
        "#corresponding to the timestamps before HFS\n",
        "Con1_norm=np.array(data['Con_1']/(np.mean(data['Con_1'][before_HFS])))\n",
        "Con2_norm=np.array(data['Con_2']/(np.mean(data['Con_2'][before_HFS])))\n",
        "Con3_norm=np.array(data['Con_3']/(np.mean(data['Con_3'][before_HFS])))\n",
        "Con4_norm=np.array(data['Con_4']/(np.mean(data['Con_4'][before_HFS])))\n",
        "Con5_norm=np.array(data['Con_5']/(np.mean(data['Con_5'][before_HFS])))\n",
        "\n",
        "Mut1_norm=data['Mut_1']/(np.mean(data['Mut_1'][before_HFS]))\n",
        "Mut2_norm=data['Mut_2']/(np.mean(data['Mut_2'][before_HFS]))\n",
        "Mut3_norm=data['Mut_3']/(np.mean(data['Mut_3'][before_HFS]))\n",
        "Mut4_norm=data['Mut_4']/(np.mean(data['Mut_4'][before_HFS]))\n",
        "Mut5_norm=data['Mut_5']/(np.mean(data['Mut_5'][before_HFS]))\n",
        "\n",
        "#Calculate the average normalized measurement for each timestamp for each group as %\n",
        "Con=np.mean(np.column_stack((Con1_norm,Con2_norm,Con3_norm,Con4_norm,Con5_norm)),axis=1)*100\n",
        "Mut=np.mean(np.column_stack((Mut1_norm,Mut2_norm,Mut3_norm,Mut4_norm,Mut5_norm)),axis=1)*100"
      ],
      "metadata": {
        "cellView": "form",
        "id": "XdkVHtvDNGUY"
      },
      "id": "XdkVHtvDNGUY",
      "execution_count": null,
      "outputs": []
    },
    {
      "cell_type": "code",
      "execution_count": null,
      "id": "e2e99061",
      "metadata": {
        "id": "e2e99061"
      },
      "outputs": [],
      "source": [
        "#Create the figure and remove borders on top and right side\n",
        "\n",
        "\n",
        "\n",
        "#Plot the data for the two groups in different colors\n",
        "\n"
      ]
    },
    {
      "cell_type": "code",
      "source": [
        "#@title Click to see solution\n",
        "#Create the figure and remove borders on top and right side\n",
        "fig,ax=plt.subplots(figsize=(8,5))\n",
        "sns.despine(top=True, left=False, bottom=False, right=True)\n",
        "\n",
        "#Plot the data for the two groups in different colors\n",
        "ax.scatter(time,Con,s=30,color='k',edgecolor=\"k\",linewidth=0.5)\n",
        "ax.scatter(time,Mut,s=30,color='red',edgecolor=\"k\",linewidth=0.5)\n",
        "ax.set_xlim([-10,40]); ax.set_ylim([0,550])\n",
        "ax.plot([-10,40],[100,100], color=\"k\",linestyle=\"dashed\",alpha=0.7)\n",
        "ax.arrow(0,60,0,25,width=0.1,color='k',head_width=1,head_length=10)\n",
        "ax.text(0,35,\"HFS\",ha='center',fontsize=12,color=\"k\")\n",
        "ax.set_xlabel('Time (min)',fontsize=20,labelpad=15)\n",
        "ax.set_ylabel('fEPSP (% of baseline)',fontsize=20, labelpad=15)"
      ],
      "metadata": {
        "cellView": "form",
        "id": "ZqUH03DSNVqe"
      },
      "id": "ZqUH03DSNVqe",
      "execution_count": null,
      "outputs": []
    },
    {
      "cell_type": "markdown",
      "id": "9345590c",
      "metadata": {
        "id": "9345590c"
      },
      "source": [
        "---\n",
        "# Excercise 4: What is the spiking profil of this neuron?\n",
        "\n",
        "The dataset `neuron.csv` was collected by patch-clamp of a Tonic Spiking neuron receiving input from a photoreceptor. The photoreceptor was stimulated by light-application with a set frequency and the membrane potential of the neuron was measured (measurements taken every ms) for several rounds of stimulation. The columns in the data give the membrane potential of the neuron (column name \"Membrane Potential\"), a binary value for whether the stimulus was on (1) or off (0) (\"Stimulus\"), as well as the total input current.<br><br>\n",
        "\n",
        "###Task 1:\n",
        "What can you infere about the photoreceptor and neuron from the input current graph and the membrane potential of the neuron?\n",
        "\n",
        "###Hint:\n",
        "- Plot the membrane potential, the input current and the stimulus on one graph (the trick here will be to create distinct y axes- `ax.twinx`). What do you see?\n",
        "<br><br>\n",
        "\n",
        "###Task 2:\n",
        "Create the responce profile of the neuron to this specific stimulus.<br>\n",
        "###Hint:\n",
        "Determine where the responce loops are located within this raw data array (stimulus on vs off), loop them, and then average them.\n",
        "<br><br>\n",
        "\n",
        "###Task 3:\n",
        "Compute and display spike events  top of the Vm trace if the membrane threshold for a spike event is Vm=-30. Then loop all these spike events, and display then above the responce profile of the neuron, but this time in separate lines."
      ]
    },
    {
      "cell_type": "markdown",
      "source": [
        "#Task 1"
      ],
      "metadata": {
        "id": "w8bAUAnfSK8v"
      },
      "id": "w8bAUAnfSK8v"
    },
    {
      "cell_type": "code",
      "execution_count": null,
      "id": "07b79e90",
      "metadata": {
        "id": "07b79e90"
      },
      "outputs": [],
      "source": [
        "#Import the packages you will need\n",
        "#Import the data\n",
        "#load data and visualize them\n"
      ]
    },
    {
      "cell_type": "code",
      "source": [
        "#@title Click to see solution\n",
        "#Import the packages you will need\n",
        "import pandas as pd\n",
        "import matplotlib.pyplot as plt\n",
        "import numpy as np\n",
        "import seaborn as sns"
      ],
      "metadata": {
        "cellView": "form",
        "id": "RP13-HyOSW0t"
      },
      "execution_count": null,
      "outputs": [],
      "id": "RP13-HyOSW0t"
    },
    {
      "cell_type": "code",
      "source": [
        "#@title Click to see solution\n",
        "from google.colab import files\n",
        "uploaded = files.upload() #open the dataCon_noheader.csv file"
      ],
      "metadata": {
        "cellView": "form",
        "id": "UaZbsaDcSW01"
      },
      "execution_count": null,
      "outputs": [],
      "id": "UaZbsaDcSW01"
    },
    {
      "cell_type": "code",
      "source": [
        "#@title Click to see solution\n",
        "#load data and visualize them\n",
        "data = pd.read_csv('neuron.csv')\n",
        "data"
      ],
      "metadata": {
        "cellView": "form",
        "id": "5Oc7ascNSW01"
      },
      "execution_count": null,
      "outputs": [],
      "id": "5Oc7ascNSW01"
    },
    {
      "cell_type": "code",
      "execution_count": null,
      "id": "c6a59228",
      "metadata": {
        "id": "c6a59228",
        "collapsed": true
      },
      "outputs": [],
      "source": [
        "#Extract membrane potential, current and stimulus data\n",
        "\n",
        "\n",
        "#Create a figure for membrane potential, current and stimulus data\n",
        "#assign a different y axis on the right side of the graph\n",
        "\n",
        "\n"
      ]
    },
    {
      "cell_type": "code",
      "source": [
        "#@title Click to see solution\n",
        "#Extract membrane potential, current and stimulus data\n",
        "Vm=data['Membrane potential (mV)']\n",
        "Current=data['Total Current Input (a.u.)']\n",
        "Stimulus=data['Stimulus']\n",
        "\n",
        "#membrane potential, current and stimulus data\n",
        "fig,ax = plt.subplots(figsize = (20,10))\n",
        "ax2 = ax.twinx() #assign a different y axis on the right side of the graph\n",
        "\n",
        "ax.plot(Vm, color=\"#dc322f\")\n",
        "ax2.plot(Current, color=\"#859900\")\n",
        "ax2.plot(Stimulus*25, color='blue',alpha=0.5)\n",
        "\n",
        "ax.set_ylabel(\"Membrane potential (mV)\",fontsize=16)\n",
        "ax.set_xlabel(\"Time (ms)\",fontsize=16)\n",
        "ax2.set_ylabel(\"Total Input Current (a.u.)\",fontsize=16)"
      ],
      "metadata": {
        "cellView": "form",
        "id": "LOi5683DSf2e"
      },
      "id": "LOi5683DSf2e",
      "execution_count": null,
      "outputs": []
    },
    {
      "cell_type": "markdown",
      "id": "13284933",
      "metadata": {
        "id": "13284933"
      },
      "source": [
        "From the input current graph, we can observe that light stimulation is steadily followed by a current burst which steadily decays to a \"mid\" value while the light remains on, and then returns to 0 when the light is off.\n",
        "\n",
        "We can therefore conclude that the photoreceptor connected to our neuron is an \"On transient excitatory neuron\", meaning that it responds to an onset of light, steadily adapts to the light (probably to not reach a saturation point and being able to respond to further increase of light (to be tested)), remains activated while the light is on (giving information about the light status falling onto this particular photoreceptor), and is excitatory as it sends a positive current to the main neuron.\n",
        "\n",
        "The red Vm curve gives us information about the neuron response profile: In the same example, we can see a typical spiking neuron which display a rapid train of spike upon light activation, then regular spikes while light remains present. Upon light extinction, the Vm returns to its resting state after a short undershoot period."
      ]
    },
    {
      "cell_type": "markdown",
      "source": [
        "#TASK 2"
      ],
      "metadata": {
        "id": "KewvZeRES86Z"
      },
      "id": "KewvZeRES86Z"
    },
    {
      "cell_type": "code",
      "execution_count": null,
      "id": "259c7f1c",
      "metadata": {
        "id": "259c7f1c",
        "collapsed": true
      },
      "outputs": [],
      "source": [
        "#Create a list of time points marking the beginning of each loop\n",
        "\n",
        "\n"
      ]
    },
    {
      "cell_type": "code",
      "source": [
        "#@title Click to see solution\n",
        "Data_Stimulus = data[\"Stimulus\"]\n",
        "\n",
        "#Create a list of time points marking the beginning of each loop\n",
        "stimulus_begin_times = []\n",
        "# Goes through each timepoint\n",
        "for x in range(0,len(Data_Stimulus)-1):\n",
        "    # Checks if the stimulus went from 0 to 1\n",
        "    if (Data_Stimulus[x] < Data_Stimulus[x + 1]):\n",
        "         # Make a list of times  when stimulus increased\n",
        "        stimulus_begin_times.append(x)\n",
        "\n",
        "print(\"The simulus starts at these time points: \",  stimulus_begin_times)"
      ],
      "metadata": {
        "cellView": "form",
        "id": "p8OZrtntTE9t"
      },
      "id": "p8OZrtntTE9t",
      "execution_count": null,
      "outputs": []
    },
    {
      "cell_type": "code",
      "execution_count": null,
      "id": "c210746a",
      "metadata": {
        "id": "c210746a"
      },
      "outputs": [],
      "source": [
        "# Compute arraylength for single stimulus:\n",
        "    # Takes the starting time point for the second stimulus loop\n",
        "    # And subtracts the time point from the first one, giving the time points length of a full loop\n"
      ]
    },
    {
      "cell_type": "code",
      "source": [
        "#@title Click to see solution\n",
        "# Compute arraylength for single stimulus:\n",
        "    # Takes the starting time point for the second stimulus loop\n",
        "    # And subtracts the time point from the first one, giving the time points length of a full loop\n",
        "loop_duration = stimulus_begin_times[1] - stimulus_begin_times[0]\n",
        "print(\"Each stimulus loops is:\", loop_duration, \"ms\")"
      ],
      "metadata": {
        "cellView": "form",
        "id": "TJzhETlVTMgl"
      },
      "id": "TJzhETlVTMgl",
      "execution_count": null,
      "outputs": []
    },
    {
      "cell_type": "code",
      "execution_count": null,
      "id": "84fcb8df",
      "metadata": {
        "id": "84fcb8df"
      },
      "outputs": [],
      "source": [
        "# Create looped arrays\n",
        "\n",
        "# Create a vertical stack"
      ]
    },
    {
      "cell_type": "code",
      "source": [
        "#@title Click to see solution\n",
        "# Create looped arrays\n",
        "Vm_loops = []\n",
        "InputCurrent_loops = []\n",
        "\n",
        "# Create a vertical stack\n",
        "Vm_loops = np.vstack(\n",
        "            # for each x (stimulus starting point), except the last entry,\n",
        "            # extract the data from x point to x point + the duration of the loop\n",
        "            [Vm[x:x + loop_duration] for x in stimulus_begin_times[:-1]])\n",
        "\n",
        "InputCurrent_loops = np.vstack(\n",
        "            [Current[x:x + loop_duration] for x in stimulus_begin_times[:-1]])\n",
        "\n",
        "print(Vm_loops)\n",
        "print(InputCurrent_loops)"
      ],
      "metadata": {
        "cellView": "form",
        "id": "nqzgHt18TUiz"
      },
      "id": "nqzgHt18TUiz",
      "execution_count": null,
      "outputs": []
    },
    {
      "cell_type": "code",
      "execution_count": null,
      "id": "0410e382",
      "metadata": {
        "id": "0410e382",
        "collapsed": true
      },
      "outputs": [],
      "source": [
        "#Calculate the average of the looped arrays\n",
        "\n",
        "\n",
        "#Plot both the overlay of all loops and the average with different colours\n"
      ]
    },
    {
      "cell_type": "code",
      "source": [
        "#@title Click to see solution\n",
        "#Calculate the average of the looped arrays\n",
        "Vm_Average = np.mean(Vm_loops, axis=0)\n",
        "InputCurrent_Average = np.mean(InputCurrent_loops, axis=0)\n",
        "\n",
        "#Plot both the overlay of all loops and the average with different colours\n",
        "fig,ax = plt.subplots(2,1,figsize = (20,20))\n",
        "\n",
        "for i in range (len(Vm_loops)):\n",
        "    ax[0].plot(Vm_loops[i], color=\"grey\")\n",
        "ax[0].plot(Vm_Average, linewidth=5, color=\"#dc322f\")\n",
        "\n",
        "for i in range (len(InputCurrent_loops)):\n",
        "    ax[1].plot(InputCurrent_loops[i], color=\"grey\")\n",
        "ax[1].plot(InputCurrent_Average, linewidth=5, color=\"#859900\")\n",
        "\n",
        "ax[0].set_ylabel(\"Membrane potential (mV)\",fontsize=16)\n",
        "ax[1].set_ylabel(\"Total Input Current (a.u.)\",fontsize=16)\n",
        "ax[1].set_xlabel(\"Time (ms)\",fontsize=16)"
      ],
      "metadata": {
        "cellView": "form",
        "id": "8gJn_qKeTgnV"
      },
      "id": "8gJn_qKeTgnV",
      "execution_count": null,
      "outputs": []
    },
    {
      "cell_type": "markdown",
      "source": [
        "#Task 3"
      ],
      "metadata": {
        "id": "N0f7iHOjTspt"
      },
      "id": "N0f7iHOjTspt"
    },
    {
      "cell_type": "code",
      "execution_count": null,
      "id": "8b1e41fc",
      "metadata": {
        "id": "8b1e41fc"
      },
      "outputs": [],
      "source": [
        "# Determine a membrane threshold for spike event\n",
        "\n",
        "\n",
        "# Create a timepoint list for each spike event\n"
      ]
    },
    {
      "cell_type": "code",
      "source": [
        "#@title Click to see solution\n",
        "# Determine a membrane threshold for spike event\n",
        "Vm_threshold = -30\n",
        "# Create a spike counter variable\n",
        "spike = 0\n",
        "# Create a timepoint list for each spike event\n",
        "spike_points = []\n",
        "# For each point in the array, exluding the first one. (Because we want to look for change between x and x-1)\n",
        "for x in range(1, len(Vm) - 1):\n",
        "    # look for all instances where subsequent Vm points jump from <threshold at x-1 to >threshold at x\n",
        "    if (Vm[x] > Vm_threshold and Vm[x - 1] < Vm_threshold):\n",
        "        # Append the spike event time point to the list\n",
        "        spike_points.append(x)\n",
        "        # Increase the number of spike event counted by 1\n",
        "        spike += 1\n",
        "\n",
        "print(spike, \"spike detected\")"
      ],
      "metadata": {
        "id": "jNlWOgaFTw69",
        "cellView": "form"
      },
      "id": "jNlWOgaFTw69",
      "execution_count": null,
      "outputs": []
    },
    {
      "cell_type": "code",
      "execution_count": null,
      "id": "e6104675",
      "metadata": {
        "id": "e6104675"
      },
      "outputs": [],
      "source": [
        "# First we will attribute a y value to each spike point, so it can sit on top of the traces\n",
        "\n",
        "\n",
        "#Plot the spike events on top of the traces\n"
      ]
    },
    {
      "cell_type": "code",
      "source": [
        "#@title Click to see solution\n",
        "# Determine a membrane threshold for spike event\n",
        "Vm_threshold = -30\n",
        "# Create a spike counter variable\n",
        "spike = 0\n",
        "# Create a timepoint list for each spike event\n",
        "spike_points = []\n",
        "# For each point in the array, exluding the first one. (Because we want to look for change between x and x-1)\n",
        "for x in range(1, len(Vm) - 1):\n",
        "    # look for all instances where subsequent Vm points jump from <threshold at x-1 to >threshold at x\n",
        "    if (Vm[x] > Vm_threshold and Vm[x - 1] < Vm_threshold):\n",
        "        # Append the spike event time point to the list\n",
        "        spike_points.append(x)\n",
        "        # Increase the number of spike event counted by 1\n",
        "        spike += 1\n",
        "\n",
        "print(spike, \"spike detected\")"
      ],
      "metadata": {
        "cellView": "form",
        "id": "HzGpm8RBT9Ql"
      },
      "id": "HzGpm8RBT9Ql",
      "execution_count": null,
      "outputs": []
    },
    {
      "cell_type": "code",
      "execution_count": null,
      "id": "9faa68a8",
      "metadata": {
        "id": "9faa68a8"
      },
      "outputs": [],
      "source": [
        "# Create a looped spike event list\n",
        "\n",
        "#Plot the looped spike events vertically on top of the average trace\n",
        "\n"
      ]
    },
    {
      "cell_type": "code",
      "source": [
        "#@title Click to see solution\n",
        "# Create a looped spike event list\n",
        "Spike_loops = []\n",
        "# Create a x array corresponding to the length of the Vm array\n",
        "xSpike_loops = np.linspace(0, len(Vm) - 1, len(Vm))\n",
        "# For each loop and for each spike event:\n",
        "for i, x in enumerate(stimulus_begin_times[:-1]):\n",
        "    # Append each spike point to its loop \"timing\"\n",
        "    Spike_loops.append(\n",
        "        [xSpike_loops[sp] - xSpike_loops[x] for sp in spike_points if sp > x and sp < x + loop_duration])\n",
        "\n",
        "fig = plt.figure(figsize=(20,10))\n",
        "\n",
        "# For each loop:\n",
        "for i in range(len(stimulus_begin_times) - 1):\n",
        "    # Create a y array of length specific to each loop spike event number\n",
        "    ySpike_loops = np.zeros(len(Spike_loops[i]))\n",
        "    # For each event in that loop:\n",
        "    for j in range(len(Spike_loops[i])):\n",
        "        # Assign a y value increment by 3 to avoid dot merging on display\n",
        "        ySpike_loops[j] = -10+3*i\n",
        "    # Plot all spike events\n",
        "    plt.plot(Spike_loops[i], ySpike_loops, 'o', color=\"#dc322f\")\n",
        "\n",
        "# Plot the looped Vm average trace as well\n",
        "plt.plot(Vm_Average, color=\"#dc322f\",linewidth=5)\n"
      ],
      "metadata": {
        "cellView": "form",
        "id": "i2xoLatFUFV4"
      },
      "id": "i2xoLatFUFV4",
      "execution_count": null,
      "outputs": []
    },
    {
      "cell_type": "code",
      "source": [],
      "metadata": {
        "id": "mDafEjzvhEpR"
      },
      "id": "mDafEjzvhEpR",
      "execution_count": null,
      "outputs": []
    }
  ],
  "metadata": {
    "kernelspec": {
      "display_name": "Python 3",
      "language": "python",
      "name": "python3"
    },
    "language_info": {
      "codemirror_mode": {
        "name": "ipython",
        "version": 3
      },
      "file_extension": ".py",
      "mimetype": "text/x-python",
      "name": "python",
      "nbconvert_exporter": "python",
      "pygments_lexer": "ipython3",
      "version": "3.8.8"
    },
    "colab": {
      "provenance": [],
      "toc_visible": true,
      "include_colab_link": true
    }
  },
  "nbformat": 4,
  "nbformat_minor": 5
}